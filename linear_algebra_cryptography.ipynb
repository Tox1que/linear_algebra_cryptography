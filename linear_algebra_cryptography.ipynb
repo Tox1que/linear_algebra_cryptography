{
 "cells": [
  {
   "cell_type": "markdown",
   "metadata": {
    "toc": true
   },
   "source": [
    "<h1>Содержание<span class=\"tocSkip\"></span></h1>\n",
    "<div class=\"toc\"><ul class=\"toc-item\"><li><span><a href=\"#Загрузка-данных\" data-toc-modified-id=\"Загрузка-данных-1\"><span class=\"toc-item-num\">1&nbsp;&nbsp;</span>Загрузка данных</a></span></li><li><span><a href=\"#Умножение-матриц\" data-toc-modified-id=\"Умножение-матриц-2\"><span class=\"toc-item-num\">2&nbsp;&nbsp;</span>Умножение матриц</a></span></li><li><span><a href=\"#Алгоритм-преобразования\" data-toc-modified-id=\"Алгоритм-преобразования-3\"><span class=\"toc-item-num\">3&nbsp;&nbsp;</span>Алгоритм преобразования</a></span></li><li><span><a href=\"#Проверка-алгоритма\" data-toc-modified-id=\"Проверка-алгоритма-4\"><span class=\"toc-item-num\">4&nbsp;&nbsp;</span>Проверка алгоритма</a></span></li><li><span><a href=\"#Общий-вывод\" data-toc-modified-id=\"Общий-вывод-5\"><span class=\"toc-item-num\">5&nbsp;&nbsp;</span>Общий вывод</a></span></li></ul></div>"
   ]
  },
  {
   "cell_type": "markdown",
   "metadata": {},
   "source": [
    "# Защита персональных данных клиентов"
   ]
  },
  {
   "cell_type": "markdown",
   "metadata": {},
   "source": [
    "Вам нужно защитить данные клиентов страховой компании «Хоть потоп». Разработайте такой метод преобразования данных, чтобы по ним было сложно восстановить персональную информацию. Обоснуйте корректность его работы.\n",
    "\n",
    "Нужно защитить данные, чтобы при преобразовании качество моделей машинного обучения не ухудшилось. Подбирать наилучшую модель не требуется."
   ]
  },
  {
   "cell_type": "markdown",
   "metadata": {},
   "source": [
    "## Загрузка данных"
   ]
  },
  {
   "cell_type": "code",
   "execution_count": 1,
   "metadata": {},
   "outputs": [],
   "source": [
    "import os\n",
    "\n",
    "import matplotlib.pyplot as plt\n",
    "import numpy as np\n",
    "import pandas as pd\n",
    "import seaborn as sns\n",
    "from sklearn.linear_model import LinearRegression\n",
    "from sklearn.model_selection import KFold, cross_validate\n",
    "from sklearn.preprocessing import StandardScaler\n",
    "from sklearn.pipeline import make_pipeline\n",
    "from tqdm import tqdm"
   ]
  },
  {
   "cell_type": "code",
   "execution_count": 2,
   "metadata": {},
   "outputs": [],
   "source": [
    "SEED = 12345\n",
    "\n",
    "sns.set_style('darkgrid')"
   ]
  },
  {
   "cell_type": "code",
   "execution_count": 3,
   "metadata": {},
   "outputs": [],
   "source": [
    "def get_df(file_name):\n",
    "    path_to_file = os.path.relpath(os.path.join('datasets/', file_name))\n",
    "    if os.path.isfile(path_to_file):\n",
    "        return pd.read_csv(path_to_file)\n",
    "    raise Exception('Данные отсутствуют')"
   ]
  },
  {
   "cell_type": "code",
   "execution_count": 4,
   "metadata": {},
   "outputs": [],
   "source": [
    "df = get_df('insurance.csv')"
   ]
  },
  {
   "cell_type": "code",
   "execution_count": 5,
   "metadata": {},
   "outputs": [
    {
     "name": "stdout",
     "output_type": "stream",
     "text": [
      "<class 'pandas.core.frame.DataFrame'>\n",
      "RangeIndex: 5000 entries, 0 to 4999\n",
      "Data columns (total 5 columns):\n",
      " #   Column             Non-Null Count  Dtype  \n",
      "---  ------             --------------  -----  \n",
      " 0   Пол                5000 non-null   int64  \n",
      " 1   Возраст            5000 non-null   float64\n",
      " 2   Зарплата           5000 non-null   float64\n",
      " 3   Члены семьи        5000 non-null   int64  \n",
      " 4   Страховые выплаты  5000 non-null   int64  \n",
      "dtypes: float64(2), int64(3)\n",
      "memory usage: 195.4 KB\n"
     ]
    },
    {
     "data": {
      "text/html": [
       "<div>\n",
       "<style scoped>\n",
       "    .dataframe tbody tr th:only-of-type {\n",
       "        vertical-align: middle;\n",
       "    }\n",
       "\n",
       "    .dataframe tbody tr th {\n",
       "        vertical-align: top;\n",
       "    }\n",
       "\n",
       "    .dataframe thead th {\n",
       "        text-align: right;\n",
       "    }\n",
       "</style>\n",
       "<table border=\"1\" class=\"dataframe\">\n",
       "  <thead>\n",
       "    <tr style=\"text-align: right;\">\n",
       "      <th></th>\n",
       "      <th>Пол</th>\n",
       "      <th>Возраст</th>\n",
       "      <th>Зарплата</th>\n",
       "      <th>Члены семьи</th>\n",
       "      <th>Страховые выплаты</th>\n",
       "    </tr>\n",
       "  </thead>\n",
       "  <tbody>\n",
       "    <tr>\n",
       "      <th>904</th>\n",
       "      <td>0</td>\n",
       "      <td>41.0</td>\n",
       "      <td>32500.0</td>\n",
       "      <td>0</td>\n",
       "      <td>0</td>\n",
       "    </tr>\n",
       "    <tr>\n",
       "      <th>4108</th>\n",
       "      <td>0</td>\n",
       "      <td>32.0</td>\n",
       "      <td>39400.0</td>\n",
       "      <td>0</td>\n",
       "      <td>0</td>\n",
       "    </tr>\n",
       "    <tr>\n",
       "      <th>1189</th>\n",
       "      <td>0</td>\n",
       "      <td>28.0</td>\n",
       "      <td>39800.0</td>\n",
       "      <td>1</td>\n",
       "      <td>0</td>\n",
       "    </tr>\n",
       "    <tr>\n",
       "      <th>2840</th>\n",
       "      <td>1</td>\n",
       "      <td>22.0</td>\n",
       "      <td>36200.0</td>\n",
       "      <td>1</td>\n",
       "      <td>0</td>\n",
       "    </tr>\n",
       "    <tr>\n",
       "      <th>1952</th>\n",
       "      <td>0</td>\n",
       "      <td>53.0</td>\n",
       "      <td>45200.0</td>\n",
       "      <td>0</td>\n",
       "      <td>2</td>\n",
       "    </tr>\n",
       "    <tr>\n",
       "      <th>169</th>\n",
       "      <td>1</td>\n",
       "      <td>38.0</td>\n",
       "      <td>40700.0</td>\n",
       "      <td>1</td>\n",
       "      <td>0</td>\n",
       "    </tr>\n",
       "    <tr>\n",
       "      <th>4852</th>\n",
       "      <td>0</td>\n",
       "      <td>40.0</td>\n",
       "      <td>39900.0</td>\n",
       "      <td>0</td>\n",
       "      <td>0</td>\n",
       "    </tr>\n",
       "    <tr>\n",
       "      <th>264</th>\n",
       "      <td>1</td>\n",
       "      <td>46.0</td>\n",
       "      <td>46500.0</td>\n",
       "      <td>1</td>\n",
       "      <td>1</td>\n",
       "    </tr>\n",
       "    <tr>\n",
       "      <th>81</th>\n",
       "      <td>1</td>\n",
       "      <td>29.0</td>\n",
       "      <td>51600.0</td>\n",
       "      <td>1</td>\n",
       "      <td>0</td>\n",
       "    </tr>\n",
       "    <tr>\n",
       "      <th>458</th>\n",
       "      <td>0</td>\n",
       "      <td>26.0</td>\n",
       "      <td>41400.0</td>\n",
       "      <td>4</td>\n",
       "      <td>0</td>\n",
       "    </tr>\n",
       "    <tr>\n",
       "      <th>2166</th>\n",
       "      <td>1</td>\n",
       "      <td>22.0</td>\n",
       "      <td>47500.0</td>\n",
       "      <td>0</td>\n",
       "      <td>0</td>\n",
       "    </tr>\n",
       "    <tr>\n",
       "      <th>2506</th>\n",
       "      <td>1</td>\n",
       "      <td>19.0</td>\n",
       "      <td>38600.0</td>\n",
       "      <td>2</td>\n",
       "      <td>0</td>\n",
       "    </tr>\n",
       "    <tr>\n",
       "      <th>1611</th>\n",
       "      <td>0</td>\n",
       "      <td>48.0</td>\n",
       "      <td>45000.0</td>\n",
       "      <td>2</td>\n",
       "      <td>1</td>\n",
       "    </tr>\n",
       "    <tr>\n",
       "      <th>3240</th>\n",
       "      <td>0</td>\n",
       "      <td>25.0</td>\n",
       "      <td>31600.0</td>\n",
       "      <td>0</td>\n",
       "      <td>0</td>\n",
       "    </tr>\n",
       "    <tr>\n",
       "      <th>1829</th>\n",
       "      <td>0</td>\n",
       "      <td>22.0</td>\n",
       "      <td>44600.0</td>\n",
       "      <td>1</td>\n",
       "      <td>0</td>\n",
       "    </tr>\n",
       "    <tr>\n",
       "      <th>4406</th>\n",
       "      <td>1</td>\n",
       "      <td>30.0</td>\n",
       "      <td>47700.0</td>\n",
       "      <td>3</td>\n",
       "      <td>0</td>\n",
       "    </tr>\n",
       "    <tr>\n",
       "      <th>500</th>\n",
       "      <td>0</td>\n",
       "      <td>18.0</td>\n",
       "      <td>54800.0</td>\n",
       "      <td>2</td>\n",
       "      <td>0</td>\n",
       "    </tr>\n",
       "    <tr>\n",
       "      <th>428</th>\n",
       "      <td>0</td>\n",
       "      <td>29.0</td>\n",
       "      <td>43100.0</td>\n",
       "      <td>2</td>\n",
       "      <td>0</td>\n",
       "    </tr>\n",
       "    <tr>\n",
       "      <th>28</th>\n",
       "      <td>1</td>\n",
       "      <td>19.0</td>\n",
       "      <td>36800.0</td>\n",
       "      <td>0</td>\n",
       "      <td>0</td>\n",
       "    </tr>\n",
       "    <tr>\n",
       "      <th>3759</th>\n",
       "      <td>0</td>\n",
       "      <td>35.0</td>\n",
       "      <td>44000.0</td>\n",
       "      <td>0</td>\n",
       "      <td>0</td>\n",
       "    </tr>\n",
       "  </tbody>\n",
       "</table>\n",
       "</div>"
      ],
      "text/plain": [
       "      Пол  Возраст  Зарплата  Члены семьи  Страховые выплаты\n",
       "904     0     41.0   32500.0            0                  0\n",
       "4108    0     32.0   39400.0            0                  0\n",
       "1189    0     28.0   39800.0            1                  0\n",
       "2840    1     22.0   36200.0            1                  0\n",
       "1952    0     53.0   45200.0            0                  2\n",
       "169     1     38.0   40700.0            1                  0\n",
       "4852    0     40.0   39900.0            0                  0\n",
       "264     1     46.0   46500.0            1                  1\n",
       "81      1     29.0   51600.0            1                  0\n",
       "458     0     26.0   41400.0            4                  0\n",
       "2166    1     22.0   47500.0            0                  0\n",
       "2506    1     19.0   38600.0            2                  0\n",
       "1611    0     48.0   45000.0            2                  1\n",
       "3240    0     25.0   31600.0            0                  0\n",
       "1829    0     22.0   44600.0            1                  0\n",
       "4406    1     30.0   47700.0            3                  0\n",
       "500     0     18.0   54800.0            2                  0\n",
       "428     0     29.0   43100.0            2                  0\n",
       "28      1     19.0   36800.0            0                  0\n",
       "3759    0     35.0   44000.0            0                  0"
      ]
     },
     "execution_count": 5,
     "metadata": {},
     "output_type": "execute_result"
    }
   ],
   "source": [
    "df.info()\n",
    "df.sample(20)"
   ]
  },
  {
   "cell_type": "code",
   "execution_count": 6,
   "metadata": {},
   "outputs": [],
   "source": [
    "def get_overview_histogram(df, col, ax, bins_num='auto', line_color='r',\n",
    "                           color=None):\n",
    "    ax.set_title(f'Распределение признака \"{col}\"')\n",
    "    median = df[col].median()\n",
    "    mean = df[col].mean()\n",
    "    sns.histplot(df[col], kde=True, color=color, bins=bins_num, ax=ax)\n",
    "    ax.axvline(x=median, c=line_color, label='Медиана')\n",
    "    ax.axvline(x=mean, c=line_color, ls='--', label='Среднее')\n",
    "    ax.set_ylabel('Количество')\n",
    "\n",
    "def get_overview(df):\n",
    "    fig, axs = plt.subplots(2, 3, figsize=(15, 7))\n",
    "    fig.delaxes(axs[1][2])\n",
    "    cols = df.columns\n",
    "    for col, ax in tqdm(zip(cols, axs.flat)):\n",
    "        get_overview_histogram(df, col, ax)\n",
    "\n",
    "    plt.tight_layout()\n",
    "    plt.legend(bbox_to_anchor=(1.52, 1), fontsize=11)\n",
    "    plt.show()"
   ]
  },
  {
   "cell_type": "code",
   "execution_count": 7,
   "metadata": {},
   "outputs": [
    {
     "data": {
      "text/html": [
       "<div>\n",
       "<style scoped>\n",
       "    .dataframe tbody tr th:only-of-type {\n",
       "        vertical-align: middle;\n",
       "    }\n",
       "\n",
       "    .dataframe tbody tr th {\n",
       "        vertical-align: top;\n",
       "    }\n",
       "\n",
       "    .dataframe thead th {\n",
       "        text-align: right;\n",
       "    }\n",
       "</style>\n",
       "<table border=\"1\" class=\"dataframe\">\n",
       "  <thead>\n",
       "    <tr style=\"text-align: right;\">\n",
       "      <th></th>\n",
       "      <th>Пол</th>\n",
       "      <th>Возраст</th>\n",
       "      <th>Зарплата</th>\n",
       "      <th>Члены семьи</th>\n",
       "      <th>Страховые выплаты</th>\n",
       "    </tr>\n",
       "  </thead>\n",
       "  <tbody>\n",
       "    <tr>\n",
       "      <th>0.01</th>\n",
       "      <td>0.0</td>\n",
       "      <td>18.0</td>\n",
       "      <td>16599.0</td>\n",
       "      <td>0.0</td>\n",
       "      <td>0.0</td>\n",
       "    </tr>\n",
       "    <tr>\n",
       "      <th>0.99</th>\n",
       "      <td>1.0</td>\n",
       "      <td>52.0</td>\n",
       "      <td>62301.0</td>\n",
       "      <td>4.0</td>\n",
       "      <td>2.0</td>\n",
       "    </tr>\n",
       "  </tbody>\n",
       "</table>\n",
       "</div>"
      ],
      "text/plain": [
       "      Пол  Возраст  Зарплата  Члены семьи  Страховые выплаты\n",
       "0.01  0.0     18.0   16599.0          0.0                0.0\n",
       "0.99  1.0     52.0   62301.0          4.0                2.0"
      ]
     },
     "metadata": {},
     "output_type": "display_data"
    },
    {
     "name": "stderr",
     "output_type": "stream",
     "text": [
      "5it [00:00, 10.67it/s]\n"
     ]
    },
    {
     "data": {
      "image/png": "[encoded data removed]",
      "text/plain": [
       "<Figure size 1500x700 with 5 Axes>"
      ]
     },
     "metadata": {},
     "output_type": "display_data"
    }
   ],
   "source": [
    "display(df.quantile([.01, .99]))\n",
    "get_overview(df)"
   ]
  },
  {
   "cell_type": "markdown",
   "metadata": {},
   "source": [
    "`Пол`  \n",
    "Классы признака сбалансированы.  \n",
    "\n",
    "`Возраст`  \n",
    "Распределение скошено вправо.  \n",
    "Основная часть значений лежит в диапазоне до 52 лет.\n",
    "\n",
    "`Зарплата`  \n",
    "Нормальное распределение.  \n",
    "Основная часть значений лежит в диапазоне от 16599 до 62301.  \n",
    "\n",
    "`Члены семьи`   \n",
    "Количество членов семьи 99% клиентов не превышает 4-х.  \n",
    "\n",
    "`Страховые выплаты`  \n",
    "Основная часть клиентов за последние 5 лет не получала страховые выплаты.  \n",
    "\n",
    "Аномальные значения в рассмотренных переменных отсутствуют."
   ]
  },
  {
   "cell_type": "code",
   "execution_count": 8,
   "metadata": {},
   "outputs": [
    {
     "name": "stdout",
     "output_type": "stream",
     "text": [
      "0    5000\n",
      "Name: Возраст, dtype: int64\n"
     ]
    },
    {
     "data": {
      "text/plain": [
       "0               4960\n",
       "000000000004      35\n",
       "99999999999        3\n",
       "00000000001        2\n",
       "Name: Зарплата, dtype: int64"
      ]
     },
     "execution_count": 8,
     "metadata": {},
     "output_type": "execute_result"
    }
   ],
   "source": [
    "print(df['Возраст'].astype('str').str.split('.').str[-1].value_counts())\n",
    "df['Зарплата'].astype('str').str.split('.').str[-1].value_counts()"
   ]
  },
  {
   "cell_type": "markdown",
   "metadata": {},
   "source": [
    "В столбце с зарплатой клиента содержится незначительное количество десятичных дробей, округлим их до целых и приведём типы данных в датасете."
   ]
  },
  {
   "cell_type": "code",
   "execution_count": 9,
   "metadata": {},
   "outputs": [
    {
     "name": "stdout",
     "output_type": "stream",
     "text": [
      "0    5000\n",
      "Name: Зарплата, dtype: int64 \n",
      "\n",
      "<class 'pandas.core.frame.DataFrame'>\n",
      "RangeIndex: 5000 entries, 0 to 4999\n",
      "Data columns (total 5 columns):\n",
      " #   Column             Non-Null Count  Dtype\n",
      "---  ------             --------------  -----\n",
      " 0   Пол                5000 non-null   int8 \n",
      " 1   Возраст            5000 non-null   int8 \n",
      " 2   Зарплата           5000 non-null   int32\n",
      " 3   Члены семьи        5000 non-null   int8 \n",
      " 4   Страховые выплаты  5000 non-null   int8 \n",
      "dtypes: int32(1), int8(4)\n",
      "memory usage: 39.2 KB\n"
     ]
    }
   ],
   "source": [
    "df['Зарплата'] = df['Зарплата'].round(0)\n",
    "print(df['Зарплата'].astype('str').str.split('.').str[-1].value_counts(), '\\n')\n",
    "\n",
    "df = df.apply(pd.to_numeric, downcast='integer')\n",
    "df.info()"
   ]
  },
  {
   "cell_type": "code",
   "execution_count": 10,
   "metadata": {},
   "outputs": [
    {
     "data": {
      "text/plain": [
       "153"
      ]
     },
     "execution_count": 10,
     "metadata": {},
     "output_type": "execute_result"
    }
   ],
   "source": [
    "df.duplicated().sum()"
   ]
  },
  {
   "cell_type": "markdown",
   "metadata": {},
   "source": [
    "В данных содержаться явные дубликаты, однако, с учётом малого количества признаков и отсутствия идентификационного номера клиента,  \n",
    "их появление вполне ожидаемо."
   ]
  },
  {
   "cell_type": "markdown",
   "metadata": {},
   "source": [
    "**Вывод**:  \n",
    "- загруженный набор данных состоит из пяти тысяч объектов, содержит четыре количественные и одну категориальную переменную;  \n",
    "- пропуски и аномальные значения отсутствуют;  \n",
    "- типы данных приведены;  \n",
    "- присутствующие в датасете явные дубликаты, вероятно, не являются результатом технического сбоя или человеческой ошибки."
   ]
  },
  {
   "cell_type": "markdown",
   "metadata": {},
   "source": [
    "## Умножение матриц"
   ]
  },
  {
   "cell_type": "markdown",
   "metadata": {},
   "source": [
    "Ответьте на вопрос и обоснуйте решение.   \n",
    "Признаки умножают на обратимую матрицу. Изменится ли качество линейной регрессии? (Её можно обучить заново.)  \n",
    "a. Изменится. Приведите примеры матриц.  \n",
    "b. Не изменится. Укажите, как связаны параметры линейной регрессии в исходной задаче и в преобразованной.  "
   ]
  },
  {
   "cell_type": "markdown",
   "metadata": {},
   "source": [
    "Обозначения:\n",
    "\n",
    "- $X$ — матрица признаков (нулевой столбец состоит из единиц)\n",
    "\n",
    "- $y$ — вектор целевого признака\n",
    "\n",
    "- $P$ — матрица, на которую умножаются признаки\n",
    "\n",
    "- $w$ — вектор весов линейной регрессии (нулевой элемент равен сдвигу)"
   ]
  },
  {
   "cell_type": "markdown",
   "metadata": {},
   "source": [
    "Предсказания:\n",
    "\n",
    "$$\n",
    "a = Xw\n",
    "$$\n",
    "\n",
    "Задача обучения:\n",
    "\n",
    "$$\n",
    "w = \\arg\\min_w MSE(Xw, y)\n",
    "$$\n",
    "\n",
    "Формула обучения:\n",
    "\n",
    "$$\n",
    "w = (X^T X)^{-1} X^T y\n",
    "$$"
   ]
  },
  {
   "cell_type": "markdown",
   "metadata": {},
   "source": [
    "**Ответ:** не изменится\n",
    "\n",
    "**Обоснование:** $$a' = XAw'$$ где $a'$ - предсказания модели на признаках X, умноженных на обратимую матрицу A.  \n",
    "Тогда  $$w' = ((XA)^TXA)^{-1}(XA)^Ty$$\n",
    "Преобразуем выражение, используя следующие свойства обратной матрицы:\n",
    "$$(A_1A_2...A_{n-1}A_n)^{-1} = A_n^{-1}A_{n-1}^{-1}...A_2^{-1}A_1^{-1},$$ $$AA^{-1} = I,$$\n",
    "где I – единичная матрица, A – обратимая матрица.  \n",
    "$$w' = (A^T(X^TX)A)^{-1}A^TX^Ty = A^{-1}(X^TX)^{-1}(A^T)^{-1}A^TX^Ty = A^{-1}(X^TX)^{-1}X^Ty,$$\n",
    "$$w' = A^{-1}w$$\n",
    "Из чего следует, что $$a' = XAw' = XAA^{-1}w = Xw = a$$"
   ]
  },
  {
   "cell_type": "markdown",
   "metadata": {},
   "source": [
    "**Вывод**: умножение признаков на обратимую матрицу не повлияет на качество линейной регрессии."
   ]
  },
  {
   "cell_type": "markdown",
   "metadata": {},
   "source": [
    "## Алгоритм преобразования"
   ]
  },
  {
   "cell_type": "markdown",
   "metadata": {},
   "source": [
    "**Алгоритм**  \n",
    "Выполним преобразование путём умножения матрицы признаков X на обратимую матрицу A:\n",
    "$$X’ = XA$$"
   ]
  },
  {
   "cell_type": "markdown",
   "metadata": {},
   "source": [
    "**Обоснование**  \n",
    "Описанный выше алгоритм не повлияет на качество линейной регрессии.    \n",
    "Умножение преобразованных признаков на матрицу, обратную A, вернёт исходные значения:\n",
    "$$X’ A^{-1} = XAA^{-1} = X$$"
   ]
  },
  {
   "cell_type": "markdown",
   "metadata": {},
   "source": [
    "## Проверка алгоритма"
   ]
  },
  {
   "cell_type": "code",
   "execution_count": 11,
   "metadata": {},
   "outputs": [
    {
     "name": "stdout",
     "output_type": "stream",
     "text": [
      "Значения восстановленных признаков соответствуют значениям исходных признаков.\n"
     ]
    }
   ],
   "source": [
    "features = df.drop('Страховые выплаты', axis=1)\n",
    "target = df['Страховые выплаты']\n",
    "\n",
    "\n",
    "def encrypt_features(features):\n",
    "    n = features.shape[1]\n",
    "    state = np.random.RandomState(SEED)\n",
    "    A = state.normal(loc=0.1, scale=0.05, size=(n, n))\n",
    "    while np.isclose(np.linalg.det(A), 0):\n",
    "        A = state.normal(loc=0.1, scale=0.05, size=(n, n))\n",
    "\n",
    "    X = features.values @ A\n",
    "    restored_features = X @ np.linalg.inv(A)\n",
    "    restored_features = pd.DataFrame(data=restored_features,\n",
    "                                     columns=features.columns)\n",
    "    restored_features = restored_features.round(0)\n",
    "    restored_features = restored_features.apply(pd.to_numeric,\n",
    "                                                downcast='integer')\n",
    "    return pd.DataFrame(data=X, columns=features.columns), restored_features\n",
    "\n",
    "\n",
    "features_encrypted, restored_features = encrypt_features(features)\n",
    "\n",
    "is_equal = restored_features.equals(features)\n",
    "output_dict = {1: '', 0: ' не'}\n",
    "print(f'Значения восстановленных признаков{output_dict[is_equal]}'\n",
    "      ' соответствуют значениям исходных признаков.')"
   ]
  },
  {
   "cell_type": "code",
   "execution_count": 12,
   "metadata": {},
   "outputs": [],
   "source": [
    "def get_rmse_r2(X, y):\n",
    "    regressor = LinearRegression(n_jobs=-1)\n",
    "    pipe = make_pipeline(StandardScaler(),  regressor)\n",
    "    result = cross_validate(\n",
    "        regressor, X, y, n_jobs=-1,\n",
    "        cv=KFold(5, random_state=SEED, shuffle=True),\n",
    "        scoring=['neg_mean_absolute_error', 'neg_root_mean_squared_error',\n",
    "                 'r2']\n",
    "    )\n",
    "    return (\n",
    "        result['test_r2'].mean(),\n",
    "        -result['test_neg_mean_absolute_error'].mean(),\n",
    "        -result['test_neg_root_mean_squared_error'].mean(),\n",
    "    )"
   ]
  },
  {
   "cell_type": "code",
   "execution_count": 13,
   "metadata": {},
   "outputs": [
    {
     "data": {
      "text/html": [
       "<div>\n",
       "<style scoped>\n",
       "    .dataframe tbody tr th:only-of-type {\n",
       "        vertical-align: middle;\n",
       "    }\n",
       "\n",
       "    .dataframe tbody tr th {\n",
       "        vertical-align: top;\n",
       "    }\n",
       "\n",
       "    .dataframe thead th {\n",
       "        text-align: right;\n",
       "    }\n",
       "</style>\n",
       "<table border=\"1\" class=\"dataframe\">\n",
       "  <thead>\n",
       "    <tr style=\"text-align: right;\">\n",
       "      <th></th>\n",
       "      <th>Исходные признаки</th>\n",
       "      <th>Преобразованные признаки</th>\n",
       "    </tr>\n",
       "  </thead>\n",
       "  <tbody>\n",
       "    <tr>\n",
       "      <th>r2</th>\n",
       "      <td>0.418645</td>\n",
       "      <td>0.418645</td>\n",
       "    </tr>\n",
       "    <tr>\n",
       "      <th>mae</th>\n",
       "      <td>0.253369</td>\n",
       "      <td>0.253369</td>\n",
       "    </tr>\n",
       "    <tr>\n",
       "      <th>rmse</th>\n",
       "      <td>0.351249</td>\n",
       "      <td>0.351249</td>\n",
       "    </tr>\n",
       "  </tbody>\n",
       "</table>\n",
       "</div>"
      ],
      "text/plain": [
       "      Исходные признаки  Преобразованные признаки\n",
       "r2             0.418645                  0.418645\n",
       "mae            0.253369                  0.253369\n",
       "rmse           0.351249                  0.351249"
      ]
     },
     "execution_count": 13,
     "metadata": {},
     "output_type": "execute_result"
    }
   ],
   "source": [
    "original = get_rmse_r2(features, target)\n",
    "encrypted = get_rmse_r2(features_encrypted, target)\n",
    "\n",
    "pd.DataFrame(\n",
    "    index=['r2', 'mae', 'rmse'],\n",
    "    data={'Исходные признаки': original, 'Преобразованные признаки': encrypted}\n",
    ")"
   ]
  },
  {
   "cell_type": "markdown",
   "metadata": {},
   "source": [
    "**Вывод**: метрики, полученные на исходных данных, соответствуют метрикам на преобразованных данных."
   ]
  },
  {
   "cell_type": "markdown",
   "metadata": {},
   "source": [
    "## Общий вывод"
   ]
  },
  {
   "cell_type": "markdown",
   "metadata": {},
   "source": [
    "**Описание данных**  \n",
    "- **Признаки**: пол, возраст и зарплата застрахованного, количество членов его семьи.  \n",
    "- **Целевой признак**: количество страховых выплат клиенту за последние 5 лет.  \n",
    "\n",
    "**Предварительный анализ данных**:  \n",
    "- аномальные значения и пропуски в загруженном наборе данных отсутствуют;  \n",
    "- присутствующие в датасете явные дубликаты, вероятно, не являются результатом технического сбоя или человеческой ошибки.  \n",
    "\n",
    "**Ход исследования**:\n",
    "- приведено доказательство отсутствия влияния на качество линейной регрессии преобразования признаков путём умножения на обратимую матрицу;  \n",
    "- исходя из результатов, полученных на предыдущем шаге исследования, предложен алгоритм преобразования признаков;  \n",
    "- проведено сравнения качества линейной регрессии на исходных и преобразованных данных с точки зрения метрик $r^2$, $mae$, $rmse$:  \n",
    "    полученные при использовании преобразованных признаков метрики соответствуют метрикам, полученным на исходных данных."
   ]
  }
 ],
 "metadata": {
  "ExecuteTimeLog": [
   {
    "duration": 1570,
    "start_time": "2023-11-12T12:31:43.110Z"
   },
   {
    "duration": 3,
    "start_time": "2023-11-12T12:31:44.681Z"
   },
   {
    "duration": 4,
    "start_time": "2023-11-12T12:31:44.686Z"
   },
   {
    "duration": 93,
    "start_time": "2023-11-12T12:31:44.691Z"
   },
   {
    "duration": 32,
    "start_time": "2023-11-12T12:31:44.786Z"
   },
   {
    "duration": 6,
    "start_time": "2023-11-12T12:31:44.819Z"
   },
   {
    "duration": 2151,
    "start_time": "2023-11-12T12:31:44.826Z"
   },
   {
    "duration": 97,
    "start_time": "2023-11-12T12:31:46.978Z"
   },
   {
    "duration": 56,
    "start_time": "2023-11-12T12:31:47.076Z"
   },
   {
    "duration": 5,
    "start_time": "2023-11-12T12:31:47.133Z"
   },
   {
    "duration": 32,
    "start_time": "2023-11-12T12:31:47.140Z"
   },
   {
    "duration": 19,
    "start_time": "2023-11-12T12:31:47.198Z"
   },
   {
    "duration": 141,
    "start_time": "2023-11-12T12:31:47.220Z"
   },
   {
    "duration": 1471,
    "start_time": "2023-11-12T12:35:46.764Z"
   },
   {
    "duration": 3,
    "start_time": "2023-11-12T12:35:48.237Z"
   },
   {
    "duration": 5,
    "start_time": "2023-11-12T12:35:48.242Z"
   },
   {
    "duration": 50,
    "start_time": "2023-11-12T12:35:48.249Z"
   },
   {
    "duration": 31,
    "start_time": "2023-11-12T12:35:48.302Z"
   },
   {
    "duration": 6,
    "start_time": "2023-11-12T12:35:48.335Z"
   },
   {
    "duration": 2191,
    "start_time": "2023-11-12T12:35:48.342Z"
   },
   {
    "duration": 94,
    "start_time": "2023-11-12T12:35:50.535Z"
   },
   {
    "duration": 40,
    "start_time": "2023-11-12T12:35:50.631Z"
   },
   {
    "duration": 6,
    "start_time": "2023-11-12T12:35:50.672Z"
   },
   {
    "duration": 27,
    "start_time": "2023-11-12T12:35:50.680Z"
   },
   {
    "duration": 7,
    "start_time": "2023-11-12T12:35:50.709Z"
   },
   {
    "duration": 231,
    "start_time": "2023-11-12T12:35:50.718Z"
   }
  ],
  "kernelspec": {
   "display_name": "Python 3 (ipykernel)",
   "language": "python",
   "name": "python3"
  },
  "language_info": {
   "codemirror_mode": {
    "name": "ipython",
    "version": 3
   },
   "file_extension": ".py",
   "mimetype": "text/x-python",
   "name": "python",
   "nbconvert_exporter": "python",
   "pygments_lexer": "ipython3",
   "version": "3.9.19"
  },
  "toc": {
   "base_numbering": 1,
   "nav_menu": {},
   "number_sections": true,
   "sideBar": true,
   "skip_h1_title": true,
   "title_cell": "Содержание",
   "title_sidebar": "Contents",
   "toc_cell": true,
   "toc_position": {},
   "toc_section_display": true,
   "toc_window_display": false
  }
 },
 "nbformat": 4,
 "nbformat_minor": 2
}
